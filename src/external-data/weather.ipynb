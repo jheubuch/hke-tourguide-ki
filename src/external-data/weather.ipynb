{
 "cells": [
  {
   "cell_type": "markdown",
   "metadata": {},
   "source": [
    "# Requesting weather data for a date and a special point"
   ]
  },
  {
   "cell_type": "markdown",
   "metadata": {},
   "source": [
    "## Necessary imports\n",
    "- Meteostat library for requesting data from Meteostat\n",
    "- Datetime library for handling datetimes"
   ]
  },
  {
   "cell_type": "code",
   "execution_count": 5,
   "metadata": {},
   "outputs": [],
   "source": [
    "import meteostat as met\n",
    "from datetime import datetime"
   ]
  },
  {
   "cell_type": "markdown",
   "metadata": {},
   "source": [
    "## Definition of the request function\n",
    "\n",
    "The function takes at least two arguments:\n",
    "- `date`: `datetime` for which the weather data should be requested\n",
    "- `point`: `meteostat.Point` for which the weather data should be requested\n",
    "\n",
    "Optional arguments:\n",
    "- `desired_data`: The data, which should be returned by the function. Defaults to `['tmax', 'prcp']`. See [Meteostat API reference](https://dev.meteostat.net/python/daily.html#data-structure)\n",
    "  for more information."
   ]
  },
  {
   "cell_type": "code",
   "execution_count": 24,
   "metadata": {},
   "outputs": [],
   "source": [
    "def get_weather_for_date_and_point(date, point, desired_data = ['tmax', 'prcp']):\n",
    "    weather_data = met.Daily(point, date, date).fetch()\n",
    "    weather_dict = {}\n",
    "    for data_col in desired_data:\n",
    "        weather_dict[data_col] = weather_data.iloc[0][data_col]\n",
    "\n",
    "    return weather_dict"
   ]
  },
  {
   "cell_type": "code",
   "execution_count": 27,
   "metadata": {},
   "outputs": [
    {
     "data": {
      "text/plain": [
       "{'tmin': -8.0, 'tmax': -1.2}"
      ]
     },
     "execution_count": 27,
     "metadata": {},
     "output_type": "execute_result"
    }
   ],
   "source": [
    "# Point for Hochschule Kempten\n",
    "point = met.Point(47.715258, 10.313076)\n",
    "date = datetime(2021, 12, 21)\n",
    "\n",
    "get_weather_for_date_and_point(date, point, ['tmin', 'tmax'])"
   ]
  }
 ],
 "metadata": {
  "interpreter": {
   "hash": "9bff9e86d8185b7c5ada88b7e1e48253fd3d076dc19261dc311bcc20d78c680d"
  },
  "kernelspec": {
   "display_name": "Python 3.8.12 64-bit ('tgki': conda)",
   "language": "python",
   "name": "python3"
  },
  "language_info": {
   "codemirror_mode": {
    "name": "ipython",
    "version": 3
   },
   "file_extension": ".py",
   "mimetype": "text/x-python",
   "name": "python",
   "nbconvert_exporter": "python",
   "pygments_lexer": "ipython3",
   "version": "3.8.12"
  },
  "orig_nbformat": 4
 },
 "nbformat": 4,
 "nbformat_minor": 2
}
