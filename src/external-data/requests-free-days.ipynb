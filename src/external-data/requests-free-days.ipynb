{
 "cells": [
  {
   "cell_type": "code",
   "execution_count": 19,
   "metadata": {},
   "outputs": [
    {
     "name": "stdout",
     "output_type": "stream",
     "text": [
      "2021-01-01: Neujahrstag\n",
      "2021-01-06: Heilige Drei Könige\n",
      "2021-04-02: Karfreitag\n",
      "2021-04-05: Ostermontag\n",
      "2021-05-01: Tag der Arbeit\n",
      "2021-05-13: Christi Himmelfahrt\n",
      "2021-05-24: Pfingstmontag\n",
      "2021-06-03: Fronleichnam\n",
      "2021-08-08: Augsburger Friedensfest\n",
      "2021-08-15: Mariä Himmelfahrt\n",
      "2021-10-03: Tag der Deutschen Einheit\n",
      "2021-11-01: Allerheiligen\n",
      "2021-11-17: Buß- und Bettag\n",
      "2021-12-25: 1. Weihnachtstag\n",
      "2021-12-26: 2. Weihnachtstag\n"
     ]
    }
   ],
   "source": [
    "import requests\n",
    "\n",
    "# Request free days from Feiertage API for year 2021 in bavaria\n",
    "free_days = requests.get('https://feiertage-api.de/api/?jahr=2021&nur_land=BY')\n",
    "\n",
    "# Parse result and store as [key, val] dict\n",
    "free_days = free_days.json()\n",
    "\n",
    "# Iterate over \n",
    "for free_day_name in free_days:\n",
    "    free_day_date = free_days[free_day_name]['datum']\n",
    "    print(f'{free_day_date}: {free_day_name}')"
   ]
  }
 ],
 "metadata": {
  "interpreter": {
   "hash": "1e84df4a150030eabb55304e8d3648d8a41821864f4805c34fc15caee6f90a5e"
  },
  "kernelspec": {
   "display_name": "Python 3.10.0 64-bit",
   "language": "python",
   "name": "python3"
  },
  "language_info": {
   "codemirror_mode": {
    "name": "ipython",
    "version": 3
   },
   "file_extension": ".py",
   "mimetype": "text/x-python",
   "name": "python",
   "nbconvert_exporter": "python",
   "pygments_lexer": "ipython3",
   "version": "3.8.12"
  },
  "orig_nbformat": 4
 },
 "nbformat": 4,
 "nbformat_minor": 2
}
