{
 "cells": [
  {
   "cell_type": "markdown",
   "metadata": {},
   "source": [
    "# Developer-Doku Training Step-by-Step\n",
    "\n",
    "Im Folgenden JupyterNotebook soll die Datenaufbereitung sowie der Trainingsprozess Schritt für Schritt anhand des Codes erklärt werden."
   ]
  },
  {
   "cell_type": "code",
   "execution_count": 44,
   "metadata": {},
   "outputs": [],
   "source": [
    "# for data\n",
    "from statsmodels.graphics.api import abline_plot\n",
    "import pandas as pd\n",
    "import numpy as np\n",
    "\n",
    "# for plotting\n",
    "import matplotlib.pyplot as plt\n",
    "\n",
    "# for statistical tests\n",
    "import statsmodels.formula.api as smf\n",
    "import statsmodels.api as sm\n",
    "\n",
    "# for machine learning\n",
    "from sklearn import model_selection, ensemble, metrics\n",
    "\n",
    "# for model persistence\n",
    "import pickle\n",
    "\n",
    "# for files\n",
    "import os.path\n",
    "\n",
    "# for date\n",
    "import datetime\n",
    "\n",
    "# for HTTP\n",
    "import requests\n",
    "\n",
    "# for weather\n",
    "import meteostat as met\n",
    "from geopy.geocoders import Nominatim"
   ]
  },
  {
   "cell_type": "markdown",
   "metadata": {},
   "source": [
    "## Daten einlesen\n",
    "Daten werden aus `.csv`-Datei eingelesen."
   ]
  },
  {
   "cell_type": "code",
   "execution_count": 4,
   "metadata": {},
   "outputs": [],
   "source": [
    "dtf = pd.read_csv(\"../data/mobilityData.csv\")"
   ]
  },
  {
   "cell_type": "markdown",
   "metadata": {},
   "source": [
    "## Spalten selektieren\n",
    "Nur die für den weiteren Prozess relevanten Spalten werden beibehalten."
   ]
  },
  {
   "cell_type": "code",
   "execution_count": 5,
   "metadata": {},
   "outputs": [],
   "source": [
    "dtf.columns = dtf.columns.str.strip()\n",
    "cols = [\"Bucket\", \"StartId\", \"StartName\", \"EndId\", \"EndName\", \"Count\"]\n",
    "dtf = dtf[cols]"
   ]
  },
  {
   "cell_type": "markdown",
   "metadata": {},
   "source": [
    "## Besucherzahlen aggregieren\n",
    "Besucherströme, welche am selben Tag in den selben Ziellandkreis erfolgen, werden zusammengefasst."
   ]
  },
  {
   "cell_type": "code",
   "execution_count": 6,
   "metadata": {},
   "outputs": [],
   "source": [
    "dtf = dtf[dtf['Bucket'].str.len() == 10]\n",
    "dtf = dtf.groupby([\"Bucket\", \"EndId\", \"EndName\"])[\n",
    "    \"Count\"].sum().reset_index()"
   ]
  },
  {
   "cell_type": "markdown",
   "metadata": {},
   "source": [
    "## Wochentage hinzufügen\n",
    "Der entsprechende Wochentag jedes einzelnen Datensatzes wird hinzugefügt."
   ]
  },
  {
   "cell_type": "code",
   "execution_count": 7,
   "metadata": {},
   "outputs": [],
   "source": [
    "dtf[\"DoW\"] = dtf[\"Bucket\"].apply(\n",
    "    lambda bucket: pd.to_datetime(bucket).day_name())"
   ]
  },
  {
   "cell_type": "markdown",
   "metadata": {},
   "source": [
    "## Zeitraum begrenzen\n",
    "Aufgrund von nicht zu berücksichtigenden Abweichungen im Mobilitätsverhalten, welche durch die Corona-Maßnahmen im Jahr 2020 hervorgerufen wurden, werden für das Training lediglich die Datensätze ab dem 01.04.2020 verwendet."
   ]
  },
  {
   "cell_type": "code",
   "execution_count": 8,
   "metadata": {},
   "outputs": [],
   "source": [
    "dtf = dtf[dtf['Bucket'] >= '2020-04-01']"
   ]
  },
  {
   "cell_type": "markdown",
   "metadata": {},
   "source": [
    "## Nomenklatur anpassen\n",
    "Die \"Zielspalte\" (`Count` = Besucheranzahl) wird gemäß der gängigen Nomenklatur im Machine Learning Kontext in `Y` umbenannt."
   ]
  },
  {
   "cell_type": "code",
   "execution_count": 9,
   "metadata": {},
   "outputs": [],
   "source": [
    "dtf = dtf.rename(columns={\"Count\": \"Y\"})"
   ]
  },
  {
   "cell_type": "markdown",
   "metadata": {},
   "source": [
    "## Landkreise extrahieren\n",
    "Aus den bestehenden Daten werden alle auftretenden Ziellandkreise extrahiert."
   ]
  },
  {
   "cell_type": "code",
   "execution_count": 10,
   "metadata": {},
   "outputs": [],
   "source": [
    "districts = dtf[['EndId', 'EndName']].copy()\n",
    "districts.drop_duplicates(subset = [\"EndId\"], inplace=True)"
   ]
  },
  {
   "cell_type": "markdown",
   "metadata": {},
   "source": [
    "## Landkreiskoordinaten ermitteln\n",
    "Für jeden extrahierten Landkreis werden über die `geopy`-Bibliothek (siehe `Doku_developer external_data.md`) Koordinaten basierend auf dem Landkreisnamen ermittelt. Landkreisnamen, für die keine Koordinaten ermittelt werden können werden in einer Fehlermeldung genannt und der Datensatz übersprungen."
   ]
  },
  {
   "cell_type": "code",
   "execution_count": 13,
   "metadata": {},
   "outputs": [
    {
     "name": "stdout",
     "output_type": "stream",
     "text": [
      "Could not find coordinates for district: Rostock - Ortsbeirat 18 : Gehlsdrf,Hinrichsdorf,Jürgenshof,Krummendorf,Nienhagen,Peez,Stuthof\n"
     ]
    }
   ],
   "source": [
    "geolocator = Nominatim(user_agent=\"hke-tgki/0.1\")\n",
    "\n",
    "districts[\"Lat\"] = \"\"\n",
    "districts[\"Lon\"] = \"\"\n",
    "\n",
    "for i in districts.index:\n",
    "    location = geolocator.geocode(districts['EndName'][i])\n",
    "    \n",
    "    if (location == None):\n",
    "        print(\"Could not find coordinates for district: \" + districts['EndName'][i])\n",
    "        continue\n",
    "\n",
    "    if (location.latitude == None or location.longitude == None): continue\n",
    "\n",
    "    districts.loc[i,'Lat'] = location.latitude\n",
    "    districts.loc[i,'Lon'] = location.longitude"
   ]
  },
  {
   "cell_type": "markdown",
   "metadata": {},
   "source": [
    "## Fehlerhafte Landkreisdaten entfernen\n",
    "Landkreise, welche fehlerhafte Daten enthalten, werden entfernt."
   ]
  },
  {
   "cell_type": "code",
   "execution_count": 19,
   "metadata": {},
   "outputs": [
    {
     "data": {
      "text/plain": [
       "506"
      ]
     },
     "execution_count": 19,
     "metadata": {},
     "output_type": "execute_result"
    },
    {
     "data": {
      "text/plain": [
       "506"
      ]
     },
     "execution_count": 19,
     "metadata": {},
     "output_type": "execute_result"
    }
   ],
   "source": [
    "print(\"Rows before NaN removal: \", districts.shape[0])\n",
    "districts.replace([np.inf, -np.inf], np.NaN, inplace=True)\n",
    "districts.replace(\"\", np.NaN, inplace=True)\n",
    "districts.dropna(how='any', axis=0, inplace=True)\n",
    "print(\"Rows after NaN removal: \", districts.shape[0])"
   ]
  },
  {
   "cell_type": "markdown",
   "metadata": {},
   "source": [
    "## Landkreisdaten speichern\n",
    "Alle ermittelten Landkreisdaten werden in einer `.csv`-Datei gespeichert, um bei einem späteren Training oder eine Prognose darauf zugreifen zu können."
   ]
  },
  {
   "cell_type": "code",
   "execution_count": 20,
   "metadata": {},
   "outputs": [],
   "source": [
    "districts.to_csv(\"../data/districts.csv\")"
   ]
  },
  {
   "cell_type": "markdown",
   "metadata": {},
   "source": [
    "## Wetterdaten für Landkreise laden\n",
    "Für jeden Landkreis werden vom Datum des ersten Datensatzes bis zum Datum des letzten Datensatzes der Mobilitätsdaten die entsprechenden Wetterdaten für den Landkreis abgefragt (siehe `Doku_developer external_data.md`) und im `districts`-Dataframe zwischengespeichert.\n",
    "Dies passiert aus Gründen der Performanz, da es performanter ist, wenige Anfragen für jeweils größere Zeiträume zu tätigen (eine Anfrage pro Landkreis für gesamten Zeitraum) als viele Anfragen für jeweils nur einen Tag (einzelne Anfragen für jeden Datensatz, sprich für jede Tag-Landkreis-Kombination in den Mobilitätsdaten)."
   ]
  },
  {
   "cell_type": "code",
   "execution_count": 21,
   "metadata": {},
   "outputs": [],
   "source": [
    "class WeatherData: \n",
    "    def __init__(self, data): \n",
    "        self.data = data\n",
    "\n",
    "districts[\"Weather\"] = \"\"\n",
    "start = datetime.datetime.strptime(dtf.iloc[1]['Bucket'], \"%Y-%m-%d\")\n",
    "end = datetime.datetime.strptime(dtf.iloc[-1]['Bucket'], \"%Y-%m-%d\")\n",
    "\n",
    "for i in districts.index:\n",
    "    districts.loc[i,'Weather'] = WeatherData(met.Daily(met.Point(districts['Lat'][i], districts['Lon'][i]), start, end).fetch())"
   ]
  },
  {
   "cell_type": "markdown",
   "metadata": {},
   "source": [
    "## Wetterdaten für alle Mobilitätsdatensätze hinzufügen\n",
    "Für jeden Mobilitätsdatensatz im `dtf`-Dataframe werden nun die entsprechenden Wetterdaten für Tag und Landkreis herausgesucht, welche im vorangegangenen Schritt im `districts`-Dataframe gespeichert wurden. Diese Wetterdaten werden direkt zum entsprechenden Mobilitätsdatensatz hinzugefügt.\n",
    "In diesem Fall handelt es sich um zwei Wetterkennzahlen: `MaxTemp` = Höchsttemperatur in °C, `Precip` = Niederschlagsmenge in mm"
   ]
  },
  {
   "cell_type": "code",
   "execution_count": 25,
   "metadata": {},
   "outputs": [],
   "source": [
    "dtf[\"MaxTemp\"] = \"\"\n",
    "dtf[\"Precip\"] = \"\"\n",
    "\n",
    "for i in dtf.index:\n",
    "    id = dtf.loc[i, 'EndId']\n",
    "    time = dtf.loc[i, 'Bucket']\n",
    "    if(districts.loc[(districts.EndId == id),'Weather'].empty): continue\n",
    "    weatherData = districts.loc[(districts.EndId == id),'Weather'].values[0]\n",
    "\n",
    "    if(weatherData.data.loc[(weatherData.data.index == pd.Timestamp(time))].size < 1):\n",
    "        continue\n",
    "\n",
    "    dtf.loc[i, 'MaxTemp'] = weatherData.data.loc[(weatherData.data.index == pd.Timestamp(time)), 'tmax'].values[0]\n",
    "    dtf.loc[i, 'Precip'] = weatherData.data.loc[(weatherData.data.index == pd.Timestamp(time)), 'prcp'].values[0]"
   ]
  },
  {
   "cell_type": "markdown",
   "metadata": {},
   "source": [
    "## Ungültige Datensätze entfernen\n",
    "Alle jetzt im `dtf`-Dataframe enthaltenen Mobilitätsdatensätze, welche in mindestens einer Spalte ungültige Werte beinhalten werden in diesem Schritt entfernt."
   ]
  },
  {
   "cell_type": "code",
   "execution_count": 26,
   "metadata": {},
   "outputs": [
    {
     "name": "stdout",
     "output_type": "stream",
     "text": [
      "Rows before NaN removal:  95418\n",
      "Rows after NaN removal:  94484\n"
     ]
    }
   ],
   "source": [
    "# Remove invalid values\n",
    "print(\"Rows before NaN removal: \", dtf.shape[0])\n",
    "dtf.replace([np.inf, -np.inf], np.NaN, inplace=True)\n",
    "dtf.replace(\"\", np.NaN, inplace=True)\n",
    "dtf.dropna(how='any', axis=0, inplace=True)\n",
    "print(\"Rows after NaN removal: \",dtf.shape[0])"
   ]
  },
  {
   "cell_type": "markdown",
   "metadata": {},
   "source": [
    "## Tage klassifizieren\n",
    "Gemäß des jeweiligen Wochentags bekommt jeder Datensatz in einer zusätzlichen Spalte `Day_class` den Wert `free` (Samstag, Sonntag) oder `work` (Montag, Dienstag, Mittwoch, Donnerstag, Freitag) zugewiesen."
   ]
  },
  {
   "cell_type": "code",
   "execution_count": 27,
   "metadata": {},
   "outputs": [],
   "source": [
    "Day_clusters = {\"free\": [\"Saturday\", \"Sunday\"], \"work\": [\"Monday\", \"Tuesday\", \"Wednesday\",\n",
    "                                                         \"Thursday\", \"Friday\"]}\n",
    "\n",
    "dic_flat = {v: k for k, lst in Day_clusters.items() for v in lst}\n",
    "\n",
    "for k, v in Day_clusters.items():\n",
    "    if len(v) == 0:\n",
    "        residual_class = k\n",
    "        \n",
    "dtf[\"Day_class\"] = dtf['DoW'].apply(lambda x: dic_flat[x] if x in\n",
    "                                   dic_flat.keys() else residual_class)"
   ]
  },
  {
   "cell_type": "markdown",
   "metadata": {},
   "source": [
    "## Feiertage laden\n",
    "Feiertage für das Jahr des ersten Mobilitätsdatensatzes werden über HTTPS-Request geladen (siehe `Doku_developer external_data.md`) und die entsprechenden Daten der Feiertage extrahiert."
   ]
  },
  {
   "cell_type": "code",
   "execution_count": 28,
   "metadata": {},
   "outputs": [],
   "source": [
    "year = dtf['Bucket'].iloc[0][:4]\n",
    "\n",
    "# Request free days from Feiertage API for year 2021 in bavaria\n",
    "free_days_json = requests.get(\n",
    "    f'https://feiertage-api.de/api/?jahr={year}&nur_land=BY')\n",
    "\n",
    "# Parse result and store as [key, val] dict\n",
    "free_days_json = free_days_json.json()\n",
    "\n",
    "free_days = []\n",
    "\n",
    "# Iterate over\n",
    "for free_day_name in free_days:\n",
    "    free_days.append(free_days_json[free_day_name]['datum'])"
   ]
  },
  {
   "cell_type": "markdown",
   "metadata": {},
   "source": [
    "## Feiertage in Klassifikation aufnehmen\n",
    "Für alle Daten, die zuvor als Feiertage ermittelt wurden, wird die Klassifikation in der Spalte `Day_class` auf `free` geändert."
   ]
  },
  {
   "cell_type": "code",
   "execution_count": 29,
   "metadata": {},
   "outputs": [],
   "source": [
    "for day in free_days:\n",
    "    dtf.loc[(dtf.Bucket == day), 'Day_class'] = 'free'"
   ]
  },
  {
   "cell_type": "markdown",
   "metadata": {},
   "source": [
    "## Ferienzeiträume laden\n",
    "Ferienzeiträume für das Jahr des ersten Mobilitätsdatensatzes werden über HTTPS-Request geladen (siehe `Doku_developer external_data.md`). Gespeichert wird hierbei jeweils das Datum des ersten und letzten Ferientags."
   ]
  },
  {
   "cell_type": "code",
   "execution_count": 30,
   "metadata": {},
   "outputs": [],
   "source": [
    "year = dtf['Bucket'].iloc[0][:4]\n",
    "\n",
    "# Request free days from Feiertage API for year in bavaria\n",
    "holidays = requests.get(\n",
    "f'https://ferien-api.de/api/v1/holidays/BY/{year}')\n",
    "\n",
    "# Parse result and store as [key, val] dict\n",
    "holidays = holidays.json()\n",
    "\n",
    "holiday_dates = []\n",
    "\n",
    "# Iterate over\n",
    "for holiday in holidays:\n",
    "    holiday_dates.append((holiday['start'], holiday['end']))"
   ]
  },
  {
   "cell_type": "markdown",
   "metadata": {},
   "source": [
    "## Reisetage identifizieren\n",
    "Ausgehend von den angefragten Ferienzeiträumen werden nun die entsprechenden Reisetage ermittelt. Hierbei werden jeweils die ersten x Tage ab dem ersten Ferientag (`start + timespan`) sowie die letzten x Tage vor dem letzten Ferientag (`end - timespan`) als Reisetage betrachtet und die entsprechenden Daten ermittelt."
   ]
  },
  {
   "cell_type": "code",
   "execution_count": 31,
   "metadata": {},
   "outputs": [],
   "source": [
    "timespan = 4\n",
    "\n",
    "travellingDays = []\n",
    "\n",
    "for date in holiday_dates:\n",
    "    start = datetime.datetime.strptime(date[0], \"%Y-%m-%dT%H:%MZ\")\n",
    "    end = datetime.datetime.strptime(date[1], \"%Y-%m-%dT%H:%MZ\")\n",
    "    for i in range(0, timespan-1, 1):\n",
    "        travellingDays.append(datetime.datetime.strftime(start + datetime.timedelta(days=i), \"%Y-%m-%d\"))\n",
    "        travellingDays.append(datetime.datetime.strftime(end - datetime.timedelta(days=i),\"%Y-%m-%d\" ))"
   ]
  },
  {
   "cell_type": "markdown",
   "metadata": {},
   "source": [
    "## Reisetage in Klassifikation aufnehmen\n",
    "Es wird eine neue Spalte `Day_class_travel` angelegt, deren Werte für alle Datensätze deren Datum in `travellingDays` enthalten ist `= 1` gesetzt wird (sonst `= 0`)."
   ]
  },
  {
   "cell_type": "code",
   "execution_count": 32,
   "metadata": {},
   "outputs": [],
   "source": [
    "dtf['Day_class_travel'] = 0\n",
    "for day in travellingDays:\n",
    "    dtf.loc[(dtf.Bucket == day), 'Day_class_travel'] = 1"
   ]
  },
  {
   "cell_type": "markdown",
   "metadata": {},
   "source": [
    "## One-Hot-Encoding\n",
    "Spalten, welche qualitative Werte enthalten (`Day_class, DoW, EndId`) werden im Folgenden One-Hot-Encodiert."
   ]
  },
  {
   "cell_type": "code",
   "execution_count": 33,
   "metadata": {},
   "outputs": [],
   "source": [
    "# create dummies Day_class\n",
    "dummy = pd.get_dummies(dtf[\"Day_class\"],\n",
    "                       prefix=\"Day_class\", drop_first=True)\n",
    "dtf = pd.concat([dtf, dummy], axis=1)\n",
    "    \n",
    "# drop the original column\n",
    "dtf = dtf.drop(\"Day_class\", axis=1)\n",
    "\n",
    "\n",
    "# create dummies DoW\n",
    "dummy = pd.get_dummies(dtf[\"DoW\"],\n",
    "                       prefix=\"DoW\", drop_first=False)\n",
    "dtf = pd.concat([dtf, dummy], axis=1)\n",
    "\n",
    "# drop the original column\n",
    "dtf = dtf.drop(\"DoW\", axis=1)\n",
    "\n",
    "\n",
    "# create dummies EndId\n",
    "dummy = pd.get_dummies(dtf[\"EndId\"],\n",
    "                       prefix=\"EndId\", drop_first=False)\n",
    "dtf = pd.concat([dtf, dummy], axis=1)\n"
   ]
  },
  {
   "cell_type": "markdown",
   "metadata": {},
   "source": [
    "## Aufbereitete Daten speichern\n",
    "Die fertig aufbereiteten Daten werden als `.csv` gespeichert, um sie für zukünftige Trainingsdurchgänge oder als Vorlage für die Datenstruktur im Falle einer Prognose verfügbar zu haben."
   ]
  },
  {
   "cell_type": "code",
   "execution_count": 34,
   "metadata": {},
   "outputs": [],
   "source": [
    "dtf.to_csv(\"../data/mobilityData_complete.csv\")"
   ]
  },
  {
   "cell_type": "markdown",
   "metadata": {},
   "source": [
    "## Daten auf relevante Features reduzieren\n",
    "In diesem Schritt werden die für den Lernprozess relevanten Spalten (\"Features\") festgelegt und die Daten auf diese Features reduziert."
   ]
  },
  {
   "cell_type": "code",
   "execution_count": 35,
   "metadata": {},
   "outputs": [],
   "source": [
    "# define training and test features\n",
    "DoWColumns = [col for col in dtf if col.startswith('DoW_')]\n",
    "DayColumns = [col for col in dtf if col.startswith('Day_')]\n",
    "WeatherColumns = [\"MaxTemp\", \"Precip\"]\n",
    "EndIdColumns = [col for col in dtf if col.startswith('EndId_')]\n",
    "X_names = DoWColumns + DayColumns + EndIdColumns + WeatherColumns\n",
    "\n",
    "relevantDtf = dtf[X_names + [\"Y\"]]"
   ]
  },
  {
   "cell_type": "markdown",
   "metadata": {},
   "source": [
    "## Aufteilung Training & Test\n",
    "Die Daten der relevanten Features werden in Trainings- (80%) und Testdaten (20%) unterteilt."
   ]
  },
  {
   "cell_type": "code",
   "execution_count": 36,
   "metadata": {},
   "outputs": [],
   "source": [
    "# split data\n",
    "dtfTrain, dtfTest = model_selection.train_test_split(relevantDtf,\n",
    "                                                     test_size=0.2)"
   ]
  },
  {
   "cell_type": "markdown",
   "metadata": {},
   "source": [
    "## Trennung Features & Y\n",
    "Die Features werden von den später zu prognostizierenden Besucherzahlen (`Y`) getrennt."
   ]
  },
  {
   "cell_type": "code",
   "execution_count": 37,
   "metadata": {},
   "outputs": [],
   "source": [
    "X_train = dtfTrain[X_names].values\n",
    "Y_train = dtfTrain[\"Y\"].values\n",
    "\n",
    "X_test = dtfTest[X_names].values\n",
    "Y_test = dtfTest[\"Y\"].values"
   ]
  },
  {
   "cell_type": "markdown",
   "metadata": {},
   "source": [
    "## Model festlegen\n",
    "Als zu verwendendes Model wird der `GradientBoostingRegressor` der Bibliothek `Scikit learn` mit den durch Testläufe ermittelten besten Parametern festgelegt."
   ]
  },
  {
   "cell_type": "code",
   "execution_count": 38,
   "metadata": {},
   "outputs": [],
   "source": [
    "model = ensemble.GradientBoostingRegressor(n_estimators=400, random_state=21)"
   ]
  },
  {
   "cell_type": "markdown",
   "metadata": {},
   "source": [
    "## Training\n",
    "Das Model wird anhand der Trainingsdaten trainiert."
   ]
  },
  {
   "cell_type": "code",
   "execution_count": 39,
   "metadata": {},
   "outputs": [
    {
     "data": {
      "text/plain": [
       "GradientBoostingRegressor(n_estimators=400, random_state=21)"
      ]
     },
     "execution_count": 39,
     "metadata": {},
     "output_type": "execute_result"
    }
   ],
   "source": [
    "model.fit(X_train, Y_train)"
   ]
  },
  {
   "cell_type": "markdown",
   "metadata": {},
   "source": [
    "## Model speichern\n",
    "Um in Zukunft auf des fertig trainierte Model zurückzugreifen zu können (bspw. für die Erstellung einer Prognose) wird dieses in einer Datei gespeichert."
   ]
  },
  {
   "cell_type": "code",
   "execution_count": 40,
   "metadata": {},
   "outputs": [],
   "source": [
    "pickle.dump(model, open(\"mobilityPredictionModel.sav\", 'wb'))"
   ]
  },
  {
   "cell_type": "markdown",
   "metadata": {},
   "source": [
    "## Testprognose\n",
    "Anhand der Features der Testdaten (welche **nicht** zum Training des Models verwendet wurden) werden vom Model entsprechende Besucherzahlen für diese Features prognostiziert."
   ]
  },
  {
   "cell_type": "code",
   "execution_count": 41,
   "metadata": {},
   "outputs": [],
   "source": [
    "predicted = model.predict(X_test)"
   ]
  },
  {
   "cell_type": "markdown",
   "metadata": {},
   "source": [
    "## Testprognosenkennzahlen\n",
    "Hier werden verschiedene Kennzahlen zur Testprognose abgegeben, welche Aufschluss darüber geben können, wie stark die prognostizierten Besucherzahlen von den realen abweichen."
   ]
  },
  {
   "cell_type": "code",
   "execution_count": 46,
   "metadata": {},
   "outputs": [
    {
     "name": "stdout",
     "output_type": "stream",
     "text": [
      "Mean Absolute Error (Σ|y-pred|/n): 854\n",
      "Root Mean Squared Error (sqrt(Σ(y-pred)^2/n)): 7,010\n",
      "Max Error: -266,629\n",
      "Max Error Dataset:\n",
      "           Bucket    EndId       Y\n",
      "38108  2020-04-18  6253300  186671\n"
     ]
    },
    {
     "data": {
      "text/plain": [
       "<matplotlib.collections.PathCollection at 0x2067dff9a60>"
      ]
     },
     "execution_count": 46,
     "metadata": {},
     "output_type": "execute_result"
    },
    {
     "data": {
      "image/png": "[encoded data removed]",
      "text/plain": [
       "<Figure size 432x288 with 2 Axes>"
      ]
     },
     "execution_count": 46,
     "metadata": {},
     "output_type": "execute_result"
    },
    {
     "data": {
      "text/plain": [
       "<matplotlib.collections.LineCollection at 0x2067df911c0>"
      ]
     },
     "execution_count": 46,
     "metadata": {},
     "output_type": "execute_result"
    },
    {
     "data": {
      "text/plain": [
       "[Text(0.5, 3.1999999999999993, 'Predicted'),\n",
       " Text(3.200000000000003, 0.5, 'True'),\n",
       " Text(0.5, 1.0, 'Predicted vs True')]"
      ]
     },
     "execution_count": 46,
     "metadata": {},
     "output_type": "execute_result"
    },
    {
     "data": {
      "text/plain": [
       "<matplotlib.legend.Legend at 0x20601246d00>"
      ]
     },
     "execution_count": 46,
     "metadata": {},
     "output_type": "execute_result"
    },
    {
     "data": {
      "text/plain": [
       "<matplotlib.collections.PathCollection at 0x2067dfb49a0>"
      ]
     },
     "execution_count": 46,
     "metadata": {},
     "output_type": "execute_result"
    },
    {
     "data": {
      "text/plain": [
       "<matplotlib.collections.LineCollection at 0x206017ceaf0>"
      ]
     },
     "execution_count": 46,
     "metadata": {},
     "output_type": "execute_result"
    },
    {
     "data": {
      "text/plain": [
       "[Text(0.5, 3.1999999999999993, 'Predicted'),\n",
       " Text(207.56818181818176, 0.5, 'Residuals'),\n",
       " Text(0.5, 1.0, 'Predicted vs Residuals')]"
      ]
     },
     "execution_count": 46,
     "metadata": {},
     "output_type": "execute_result"
    },
    {
     "data": {
      "text/plain": [
       "<matplotlib.collections.LineCollection at 0x20601898b50>"
      ]
     },
     "execution_count": 46,
     "metadata": {},
     "output_type": "execute_result"
    },
    {
     "data": {
      "text/plain": [
       "<matplotlib.legend.Legend at 0x2067f67e160>"
      ]
     },
     "execution_count": 46,
     "metadata": {},
     "output_type": "execute_result"
    },
    {
     "data": {
      "image/png": "[encoded data removed]",
      "text/plain": [
       "<Figure size 432x288 with 2 Axes>"
      ]
     },
     "metadata": {
      "needs_background": "light"
     },
     "output_type": "display_data"
    }
   ],
   "source": [
    "# Print errors\n",
    "print(\"Mean Absolute Error (Σ|y-pred|/n):\",\n",
    "        \"{:,.0f}\".format(metrics.mean_absolute_error(Y_test, predicted)))\n",
    "print(\"Root Mean Squared Error (sqrt(Σ(y-pred)^2/n)):\",\n",
    "        \"{:,.0f}\".format(np.sqrt(metrics.mean_squared_error(Y_test, predicted))))\n",
    "\n",
    "# Print residuals\n",
    "residuals = Y_test - predicted\n",
    "max_error = max(residuals) if abs(max(residuals)) > abs(\n",
    "    min(residuals)) else min(residuals)\n",
    "max_idx = list(residuals).index(max(residuals)) if abs(max(residuals)) > abs(\n",
    "    min(residuals)) else list(residuals).index(min(residuals))\n",
    "max_true, max_pred = Y_test[max_idx], predicted[max_idx]\n",
    "print(\"Max Error:\", \"{:,.0f}\".format(max_error))\n",
    "\n",
    "\n",
    "# Get dataset that has biggest error\n",
    "max_difference_y = 0\n",
    "max_dif = 0\n",
    "for idx, val in enumerate(Y_test):\n",
    "    dif = abs(val - predicted[idx])\n",
    "    if(dif > max_dif):\n",
    "        max_dif = dif\n",
    "        max_difference_y = val\n",
    "print(\"Max Error Dataset:\")\n",
    "print(dtf.loc[dtf['Y'] == max_difference_y, [\"Bucket\", \"EndId\", \"Y\"]])\n",
    "\n",
    "\n",
    "# Plot predicted vs true\n",
    "fig, ax = plt.subplots(nrows=1, ncols=2)\n",
    "ax[0].scatter(predicted, Y_test, color=\"black\")\n",
    "abline_plot(intercept=0, slope=1, color=\"red\", ax=ax[0])\n",
    "ax[0].vlines(x=max_pred, ymin=max_true, ymax=max_true-max_error,\n",
    "                color='red', linestyle='--', alpha=0.7, label=\"max error\")\n",
    "ax[0].grid(True)\n",
    "ax[0].set(xlabel=\"Predicted\", ylabel=\"True\", title=\"Predicted vs True\")\n",
    "ax[0].legend()\n",
    "\n",
    "# Plot predicted vs residuals\n",
    "ax[1].scatter(predicted, residuals, color=\"red\")\n",
    "ax[1].vlines(x=max_pred, ymin=0, ymax=max_error, color='black',\n",
    "                linestyle='--', alpha=0.7, label=\"max error\")\n",
    "ax[1].grid(True)\n",
    "ax[1].set(xlabel=\"Predicted\", ylabel=\"Residuals\",\n",
    "            title=\"Predicted vs Residuals\")\n",
    "ax[1].hlines(y=0, xmin=np.min(predicted), xmax=np.max(predicted))\n",
    "ax[1].legend()\n",
    "plt.show()"
   ]
  }
 ],
 "metadata": {
  "interpreter": {
   "hash": "9bff9e86d8185b7c5ada88b7e1e48253fd3d076dc19261dc311bcc20d78c680d"
  },
  "kernelspec": {
   "display_name": "Python 3.8.12 64-bit ('tgki': conda)",
   "language": "python",
   "name": "python3"
  },
  "language_info": {
   "codemirror_mode": {
    "name": "ipython",
    "version": 3
   },
   "file_extension": ".py",
   "mimetype": "text/x-python",
   "name": "python",
   "nbconvert_exporter": "python",
   "pygments_lexer": "ipython3",
   "version": "3.8.12"
  },
  "orig_nbformat": 4
 },
 "nbformat": 4,
 "nbformat_minor": 2
}
