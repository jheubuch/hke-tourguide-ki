{
 "cells": [
  {
   "cell_type": "code",
   "execution_count": 1,
   "metadata": {},
   "outputs": [],
   "source": [
    "# for data\n",
    "from statsmodels.graphics.api import abline_plot\n",
    "import pandas as pd\n",
    "import numpy as np\n",
    "\n",
    "# for plotting\n",
    "import matplotlib.pyplot as plt\n",
    "import seaborn as sns\n",
    "\n",
    "# for statistical tests\n",
    "import scipy\n",
    "from scipy import stats\n",
    "import statsmodels.formula.api as smf\n",
    "import statsmodels.api as sm\n",
    "\n",
    "# for machine learning\n",
    "from sklearn import model_selection, preprocessing, ensemble, linear_model, metrics\n",
    "\n",
    "# for model persistence\n",
    "import pickle\n",
    "\n",
    "# for files\n",
    "import os.path\n",
    "\n",
    "# for date\n",
    "import datetime\n",
    "\n",
    "# for HTTP\n",
    "import requests\n",
    "\n",
    "# for weather\n",
    "import meteostat as met\n",
    "from geopy.geocoders import Nominatim\n",
    "\n",
    "# for dataframe nesting\n",
    "from weatherData import WeatherData \n",
    "\n",
    "# show not only last output\n",
    "from IPython.core.interactiveshell import InteractiveShell\n",
    "InteractiveShell.ast_node_interactivity = \"all\""
   ]
  },
  {
   "cell_type": "code",
   "execution_count": 16,
   "metadata": {},
   "outputs": [],
   "source": [
    "geolocator = Nominatim(user_agent=\"hke-tgki/0.1\")\n",
    "\n",
    "def isWorkDay(datestring):\n",
    "    freeDays =  [\"Saturday\", \"Sunday\"]\n",
    "    return not (datetime.datetime.strptime(datestring, \"%Y-%m-%d\").strftime(\"%A\") in freeDays)\n",
    "\n",
    "def isTravellingDate(date):\n",
    "    travellingDates = getTravellingDates(datetime.datetime.strptime(date, \"%Y-%m-%d\").year)\n",
    "    return date in travellingDates\n",
    "\n",
    "def get_weather_for_date_and_point(date, point, desired_data = ['tmax', 'prcp']):\n",
    "    weather_data = met.Daily(point, date, date).fetch()\n",
    "    weather_dict = {}\n",
    "    if(weather_data.empty): return None\n",
    "    for data_col in desired_data:\n",
    "        weather_dict[data_col] = weather_data.iloc[0][data_col]\n",
    "\n",
    "    return weather_dict\n",
    "\n",
    "def getPredictionDataStructure(numberOfRows):\n",
    "    # Load csv with data structure\n",
    "    dataFileName =\"../data/mobilityData_complete.csv\"\n",
    "    if os.path.isfile(dataFileName):\n",
    "        dtf = pd.read_csv(dataFileName)\n",
    "    else:\n",
    "        print(\"Data file could not be loaded\")\n",
    "        return\n",
    "\n",
    "    # Extract column names from data structure\n",
    "    doWColumns = [col for col in dtf if col.startswith('DoW_')]\n",
    "    dayColumns = [col for col in dtf if col.startswith('Day_')]\n",
    "    weatherColumns = [\"MaxTemp\", \"Precip\"]\n",
    "    endIdColumns = [col for col in dtf if col.startswith('EndId_')]\n",
    "    columns = doWColumns + dayColumns + endIdColumns + weatherColumns\n",
    "\n",
    "    # Create dtf with n rows\n",
    "    data = np.array([np.zeros(numberOfRows, dtype=np.int32)]*columns.__len__()).T\n",
    "\n",
    "    dtf = pd.DataFrame(data, columns=columns)\n",
    "    dtf.fillna(0)\n",
    "\n",
    "    return dtf\n",
    "\n",
    "def getReturnDataStructure(numberOfRows):\n",
    "    cols = [\"Date\", \"DistrictId\", \"DistrictName\", \"MaxTemp\", \"Precip\", \"Visitors\"]\n",
    "    # Create dtf with single row\n",
    "    data = np.array([np.zeros(numberOfRows, dtype=np.int32)]*cols.__len__()).T\n",
    "    return pd.DataFrame(data, columns=cols)\n",
    "\n",
    "def getDatesToPredict(startDate, endDate):\n",
    "    now = datetime.datetime.today()\n",
    "    startDate = datetime.datetime.strptime(startDate, \"%Y-%m-%d\")\n",
    "    endDate = datetime.datetime.strptime(endDate, \"%Y-%m-%d\")\n",
    "\n",
    "    intoFuture = endDate - now\n",
    "    if(intoFuture.days > 10):\n",
    "        print(\"Preditions more than 10 days into the future are too unreliable\")\n",
    "        return\n",
    "\n",
    "    delta = endDate - startDate\n",
    "\n",
    "    datestrings = []\n",
    "\n",
    "    for i in range(delta.days + 1):\n",
    "        day = startDate + datetime.timedelta(days=i)\n",
    "        datestrings.append(day.strftime(\"%Y-%m-%d\"))\n",
    "\n",
    "    return datestrings\n",
    "\n",
    "def getSavedDistricts():\n",
    "     # Load districts\n",
    "    districtsFileName = \"../data/districts.csv\"\n",
    "    if os.path.isfile(districtsFileName):\n",
    "        # load saved model\n",
    "        return pd.read_csv(\"../data/districts.csv\")\n",
    "    else:\n",
    "        print(\"No saved districts could be loaded\")\n",
    "        return None\n",
    "\n",
    "def addPredictionDataset(dtf, predictions, districts, districtId, date, datasetIndex=0):\n",
    "    predictions.loc[datasetIndex, 'Date'] = date\n",
    "    predictions.loc[datasetIndex, 'DistrictId'] = districtId\n",
    "    predictions.loc[datasetIndex, 'DistrictName'] = districts.loc[(districts.EndId == districtId), 'EndName'].values[0]\n",
    "\n",
    "    # Fill in EndId and date values\n",
    "    endIdColumn = 'EndId_' + str(districtId)\n",
    "    dtf.loc[datasetIndex, endIdColumn] = 1\n",
    "    \n",
    "    # Generate datetime object from passed date\n",
    "    dateObject = datetime.datetime.strptime(date, \"%Y-%m-%d\")\n",
    "\n",
    "    # Fill in DoW type  \n",
    "    dtf.loc[datasetIndex, \"DoW_\" + dateObject.strftime(\"%A\")] = 1\n",
    "\n",
    "    # Fill in Day_class_work\n",
    "    dtf.loc[datasetIndex, \"Day_class_work\"] = int(isWorkDay(date))\n",
    "\n",
    "    # Fill in Day_class_travel type\n",
    "    dtf.loc[datasetIndex, \"Day_class_travel\"] = int(isTravellingDate(date))\n",
    "\n",
    "    # print(dtf[[\"MaxTemp\", \"Precip\"]].head())\n",
    "\n",
    "    # Get and add weather data\n",
    "    weatherData = get_weather_for_date_and_point(dateObject, met.Point(districts.loc[(districts.EndId == districtId), 'Lat'].values[0], districts.loc[(districts.EndId == districtId), 'Lon'].values[0]))\n",
    "    if(weatherData == None): return dtf, predictions\n",
    "    dtf.loc[datasetIndex, \"MaxTemp\"] = weatherData[\"tmax\"]\n",
    "    dtf.loc[datasetIndex, \"Precip\"] = weatherData[\"prcp\"]\n",
    "    predictions.loc[datasetIndex, 'MaxTemp'] = weatherData[\"tmax\"]\n",
    "    predictions.loc[datasetIndex, \"Precip\"] = weatherData[\"prcp\"]\n",
    "\n",
    "    return dtf, predictions\n",
    "\n",
    "def predict(dtf):\n",
    "    modelFileName = \"mobilityPredictionModel.sav\"\n",
    "    if os.path.isfile(modelFileName):\n",
    "        # load saved model\n",
    "        model = pickle.load(open(modelFileName, 'rb'))\n",
    "    else:\n",
    "        print(\"No saved model could be loaded\")\n",
    "        return\n",
    "\n",
    "    return np.int32(np.round(model.predict(dtf.values), decimals=0))\n",
    "    \n",
    "def singlePredict(districtId, date):\n",
    "    dtf = getPredictionDataStructure(1)\n",
    "    predictions = getReturnDataStructure(1)\n",
    "    districts = getSavedDistricts()\n",
    "    if(districts.empty): return\n",
    "    dtf, predictions = addPredictionDataset(dtf, predictions, districts, districtId, date)\n",
    "    predictions['Visitors'] = predict(dtf)\n",
    "    return predictions\n",
    "\n",
    "def multiPredict(districtIds, startdate, enddate):\n",
    "    districts = getSavedDistricts()\n",
    "    if(districts.empty): return\n",
    "    dates = getDatesToPredict(startdate, enddate)\n",
    "    predictions = getReturnDataStructure(len(districtIds)*len(dates))\n",
    "    dtf = getPredictionDataStructure(len(districtIds)*len(dates))\n",
    "    for i, districtId in enumerate(districtIds):\n",
    "        for j, date in enumerate(dates):\n",
    "            dtf, predictions = addPredictionDataset(dtf, predictions, districts, districtId, date, i*len(dates)+j)\n",
    "    predictions['Visitors'] = predict(dtf)\n",
    "    return predictions\n"
   ]
  },
  {
   "cell_type": "markdown",
   "metadata": {},
   "source": [
    "## Daten einlesen\n",
    "Daten werden aus `.csv`-Datei eingelesen."
   ]
  },
  {
   "cell_type": "code",
   "execution_count": 4,
   "metadata": {},
   "outputs": [],
   "source": [
    "dtf = pd.read_csv(\"../data/mobilityData.csv\")"
   ]
  },
  {
   "cell_type": "markdown",
   "metadata": {},
   "source": [
    "## Spalten selektieren\n",
    "Nur die für den weiteren Prozess relevanten Spalten werden beibehalten."
   ]
  },
  {
   "cell_type": "code",
   "execution_count": null,
   "metadata": {},
   "outputs": [],
   "source": [
    "dtf.columns = dtf.columns.str.strip()\n",
    "cols = [\"Bucket\", \"StartId\", \"StartName\", \"EndId\", \"EndName\", \"Count\"]\n",
    "dtf = dtf[cols]"
   ]
  },
  {
   "cell_type": "markdown",
   "metadata": {},
   "source": [
    "## Besucherzahlen aggregieren\n",
    "Besucherströme, welche am selben Tag in den selben Ziellandkreis erfolgen, werden zusammengefasst."
   ]
  },
  {
   "cell_type": "code",
   "execution_count": null,
   "metadata": {},
   "outputs": [],
   "source": [
    "dtf = dtf[dtf['Bucket'].str.len() == 10]\n",
    "dtf = dtf.groupby([\"Bucket\", \"EndId\", \"EndName\"])[\n",
    "    \"Count\"].sum().reset_index()"
   ]
  },
  {
   "cell_type": "markdown",
   "metadata": {},
   "source": [
    "## Wochentage hinzufügen\n",
    "Der entsprechende Wochentag jedes einzelnen Datensatzes wird hinzugefügt."
   ]
  },
  {
   "cell_type": "code",
   "execution_count": null,
   "metadata": {},
   "outputs": [],
   "source": [
    "dtf[\"DoW\"] = dtf[\"Bucket\"].apply(\n",
    "    lambda bucket: pd.to_datetime(bucket).day_name())"
   ]
  },
  {
   "cell_type": "markdown",
   "metadata": {},
   "source": [
    "## Zeitraum begrenzen\n",
    "Aufgrund von nicht zu berücksichtigenden Abweichungen im Mobilitätsverhalten, welche durch die Corona-Maßnahmen im Jahr 2020 hervorgerufen wurden, werden für das Training lediglich die Datensätze ab dem 01.04.2020 verwendet."
   ]
  },
  {
   "cell_type": "code",
   "execution_count": null,
   "metadata": {},
   "outputs": [],
   "source": [
    "dtf = dtf[dtf['Bucket'] >= '2020-04-01']"
   ]
  },
  {
   "cell_type": "markdown",
   "metadata": {},
   "source": [
    "## Nomenklatur anpassen\n",
    "Die \"Zielspalte\" (`Count` = Besucheranzahl) wird gemäß der gängigen Nomenklatur im Machine Learning Kontext in `Y` umbenannt."
   ]
  },
  {
   "cell_type": "code",
   "execution_count": null,
   "metadata": {},
   "outputs": [],
   "source": [
    "dtf = dtf.rename(columns={\"Count\": \"Y\"})"
   ]
  },
  {
   "cell_type": "markdown",
   "metadata": {},
   "source": [
    "## Landkreise extrahieren\n",
    "Aus den bestehenden Daten werden alle auftretenden Ziellandkreise extrahiert."
   ]
  },
  {
   "cell_type": "code",
   "execution_count": null,
   "metadata": {},
   "outputs": [],
   "source": [
    "districts = dtf[['EndId', 'EndName']].copy()\n",
    "districts.drop_duplicates(subset = [\"EndId\"], inplace=True)"
   ]
  },
  {
   "cell_type": "markdown",
   "metadata": {},
   "source": [
    "## Landkreiskoordinaten ermitteln\n",
    "Für jeden extrahierten Landkreis werden über die `geopy`-Bibliothek (siehe `Doku_developer external_data.md`) Koordinaten basierend auf dem Landkreisnamen ermittelt. Landkreisnamen, für die keine Koordinaten ermittelt werden können werden in einer Fehlermeldung genannt und der Datensatz übersprungen."
   ]
  },
  {
   "cell_type": "code",
   "execution_count": null,
   "metadata": {},
   "outputs": [],
   "source": [
    "districts[\"Lat\"] = \"\"\n",
    "districts[\"Lon\"] = \"\"\n",
    "\n",
    "for i in districts.index:\n",
    "    location = geolocator.geocode(districts['EndName'][i])\n",
    "    \n",
    "    if (location == None):\n",
    "        print(\"Could not find coordinates for district: \" + districts['EndName'][i])\n",
    "\n",
    "    if (location.latitude == None or location.longitude == None): continue\n",
    "\n",
    "    districts.loc[i,'Lat'] = location.latitude\n",
    "    districts.loc[i,'Lon'] = location.longitude"
   ]
  },
  {
   "cell_type": "markdown",
   "metadata": {},
   "source": [
    "## Landkreisdaten speichern\n",
    "Alle ermittelten Landkreisdaten werden in einer `.csv`-Datei gespeichert, um bei einem späteren Training oder eine Prognose darauf zugreifen zu können."
   ]
  },
  {
   "cell_type": "code",
   "execution_count": 6,
   "metadata": {},
   "outputs": [
    {
     "name": "stdout",
     "output_type": "stream",
     "text": [
      "Rostock - Ortsbeirat 18 : Gehlsdrf,Hinrichsdorf,Jürgenshof,Krummendorf,Nienhagen,Peez,Stuthof\n"
     ]
    }
   ],
   "source": [
    "districts.to_csv(\"../data/districts.csv\")"
   ]
  },
  {
   "cell_type": "markdown",
   "metadata": {},
   "source": [
    "## Wetterdaten für Landkreise laden\n",
    "Für jeden Landkreis werden vom Datum des ersten Datensatzes bis zum Datum des letzten Datensatzes der Mobilitätsdaten die entsprechenden Wetterdaten für den Landkreis abgefragt (siehe `Doku_developer external_data.md`) und im `districts`-Dataframe zwischengespeichert.\n",
    "Dies passiert aus Gründen der Performanz, da es performanter ist, wenige Anfragen für jeweils größere Zeiträume zu tätigen (eine Anfrage pro Landkreis für gesamten Zeitraum) als viele Anfragen für jeweils nur einen Tag (einzelne Anfragen für jeden Datensatz, sprich für jede Tag-Landkreis-Kombination in den Mobilitätsdaten)."
   ]
  },
  {
   "cell_type": "code",
   "execution_count": 7,
   "metadata": {},
   "outputs": [
    {
     "data": {
      "text/html": [
       "<div>\n",
       "<style scoped>\n",
       "    .dataframe tbody tr th:only-of-type {\n",
       "        vertical-align: middle;\n",
       "    }\n",
       "\n",
       "    .dataframe tbody tr th {\n",
       "        vertical-align: top;\n",
       "    }\n",
       "\n",
       "    .dataframe thead th {\n",
       "        text-align: right;\n",
       "    }\n",
       "</style>\n",
       "<table border=\"1\" class=\"dataframe\">\n",
       "  <thead>\n",
       "    <tr style=\"text-align: right;\">\n",
       "      <th></th>\n",
       "      <th>Unnamed: 0</th>\n",
       "      <th>EndId</th>\n",
       "      <th>EndName</th>\n",
       "      <th>Lat</th>\n",
       "      <th>Lon</th>\n",
       "      <th>Weather</th>\n",
       "    </tr>\n",
       "  </thead>\n",
       "  <tbody>\n",
       "    <tr>\n",
       "      <th>0</th>\n",
       "      <td>34472</td>\n",
       "      <td>2701700</td>\n",
       "      <td>Rendsburg-Eckernförde</td>\n",
       "      <td>54.327870</td>\n",
       "      <td>9.720589</td>\n",
       "      <td>NaN</td>\n",
       "    </tr>\n",
       "    <tr>\n",
       "      <th>1</th>\n",
       "      <td>34473</td>\n",
       "      <td>6233900</td>\n",
       "      <td>Saale-Orla-Kreis</td>\n",
       "      <td>50.586455</td>\n",
       "      <td>11.776174</td>\n",
       "      <td>NaN</td>\n",
       "    </tr>\n",
       "    <tr>\n",
       "      <th>2</th>\n",
       "      <td>34474</td>\n",
       "      <td>6234000</td>\n",
       "      <td>Baden-Baden</td>\n",
       "      <td>48.758078</td>\n",
       "      <td>8.241524</td>\n",
       "      <td>NaN</td>\n",
       "    </tr>\n",
       "    <tr>\n",
       "      <th>3</th>\n",
       "      <td>34475</td>\n",
       "      <td>6234300</td>\n",
       "      <td>Rheinisch-Bergischer Kreis</td>\n",
       "      <td>51.014037</td>\n",
       "      <td>7.171613</td>\n",
       "      <td>NaN</td>\n",
       "    </tr>\n",
       "    <tr>\n",
       "      <th>4</th>\n",
       "      <td>34476</td>\n",
       "      <td>6234400</td>\n",
       "      <td>Rottweil - Landkreis Rottweil</td>\n",
       "      <td>48.165531</td>\n",
       "      <td>8.625128</td>\n",
       "      <td>NaN</td>\n",
       "    </tr>\n",
       "  </tbody>\n",
       "</table>\n",
       "</div>"
      ],
      "text/plain": [
       "   Unnamed: 0    EndId                        EndName        Lat        Lon  \\\n",
       "0       34472  2701700          Rendsburg-Eckernförde  54.327870   9.720589   \n",
       "1       34473  6233900               Saale-Orla-Kreis  50.586455  11.776174   \n",
       "2       34474  6234000                    Baden-Baden  48.758078   8.241524   \n",
       "3       34475  6234300     Rheinisch-Bergischer Kreis  51.014037   7.171613   \n",
       "4       34476  6234400  Rottweil - Landkreis Rottweil  48.165531   8.625128   \n",
       "\n",
       "   Weather  \n",
       "0      NaN  \n",
       "1      NaN  \n",
       "2      NaN  \n",
       "3      NaN  \n",
       "4      NaN  "
      ]
     },
     "execution_count": 7,
     "metadata": {},
     "output_type": "execute_result"
    }
   ],
   "source": [
    "districts[\"Weather\"] = \"\"\n",
    "start = datetime.datetime.strptime(dtf.iloc[1]['Bucket'], \"%Y-%m-%d\")\n",
    "end = datetime.datetime.strptime(dtf.iloc[-1]['Bucket'], \"%Y-%m-%d\")\n",
    "\n",
    "for i in districts.index:\n",
    "    districts.loc[i,'Weather'] = WeatherData(met.Daily(met.Point(districts['Lat'][i], districts['Lon'][i]), start, end).fetch())"
   ]
  },
  {
   "cell_type": "markdown",
   "metadata": {},
   "source": [
    "## Wetterdaten für alle Mobilitätsdatensätze hinzufügen\n",
    "Für jeden Mobilitätsdatensatz im `dtf`-Dataframe werden nun die entsprechenden Wetterdaten für Tag und Landkreis herausgesucht, welche im vorangegangenen Schritt im `districts`-Dataframe gespeichert wurden. Diese Wetterdaten werden direkt zum entsprechenden Mobilitätsdatensatz hinzugefügt.\n",
    "In diesem Fall handelt es sich um zwei Wetterkennzahlen: `MaxTemp` = Höchsttemperatur in °C, `Precip` = Niederschlagsmenge in mm"
   ]
  },
  {
   "cell_type": "code",
   "execution_count": 8,
   "metadata": {},
   "outputs": [
    {
     "data": {
      "text/html": [
       "<div>\n",
       "<style scoped>\n",
       "    .dataframe tbody tr th:only-of-type {\n",
       "        vertical-align: middle;\n",
       "    }\n",
       "\n",
       "    .dataframe tbody tr th {\n",
       "        vertical-align: top;\n",
       "    }\n",
       "\n",
       "    .dataframe thead th {\n",
       "        text-align: right;\n",
       "    }\n",
       "</style>\n",
       "<table border=\"1\" class=\"dataframe\">\n",
       "  <thead>\n",
       "    <tr style=\"text-align: right;\">\n",
       "      <th></th>\n",
       "      <th>Bucket</th>\n",
       "      <th>EndId</th>\n",
       "      <th>EndName</th>\n",
       "      <th>Y</th>\n",
       "      <th>DoW</th>\n",
       "      <th>MaxTemp</th>\n",
       "      <th>Precip</th>\n",
       "    </tr>\n",
       "  </thead>\n",
       "  <tbody>\n",
       "    <tr>\n",
       "      <th>34472</th>\n",
       "      <td>2020-04-01</td>\n",
       "      <td>2701700</td>\n",
       "      <td>Rendsburg-Eckernförde</td>\n",
       "      <td>7</td>\n",
       "      <td>Wednesday</td>\n",
       "      <td>8.4</td>\n",
       "      <td>0.2</td>\n",
       "    </tr>\n",
       "    <tr>\n",
       "      <th>34473</th>\n",
       "      <td>2020-04-01</td>\n",
       "      <td>6233900</td>\n",
       "      <td>Saale-Orla-Kreis</td>\n",
       "      <td>32</td>\n",
       "      <td>Wednesday</td>\n",
       "      <td>7.5</td>\n",
       "      <td>0.0</td>\n",
       "    </tr>\n",
       "    <tr>\n",
       "      <th>34474</th>\n",
       "      <td>2020-04-01</td>\n",
       "      <td>6234000</td>\n",
       "      <td>Baden-Baden</td>\n",
       "      <td>7</td>\n",
       "      <td>Wednesday</td>\n",
       "      <td>11.6</td>\n",
       "      <td>0.0</td>\n",
       "    </tr>\n",
       "    <tr>\n",
       "      <th>34475</th>\n",
       "      <td>2020-04-01</td>\n",
       "      <td>6234300</td>\n",
       "      <td>Rheinisch-Bergischer Kreis</td>\n",
       "      <td>7</td>\n",
       "      <td>Wednesday</td>\n",
       "      <td>11.7</td>\n",
       "      <td>0.0</td>\n",
       "    </tr>\n",
       "    <tr>\n",
       "      <th>34476</th>\n",
       "      <td>2020-04-01</td>\n",
       "      <td>6234400</td>\n",
       "      <td>Rottweil - Landkreis Rottweil</td>\n",
       "      <td>67</td>\n",
       "      <td>Wednesday</td>\n",
       "      <td>10.1</td>\n",
       "      <td>0.0</td>\n",
       "    </tr>\n",
       "  </tbody>\n",
       "</table>\n",
       "</div>"
      ],
      "text/plain": [
       "           Bucket    EndId                        EndName   Y        DoW  \\\n",
       "34472  2020-04-01  2701700          Rendsburg-Eckernförde   7  Wednesday   \n",
       "34473  2020-04-01  6233900               Saale-Orla-Kreis  32  Wednesday   \n",
       "34474  2020-04-01  6234000                    Baden-Baden   7  Wednesday   \n",
       "34475  2020-04-01  6234300     Rheinisch-Bergischer Kreis   7  Wednesday   \n",
       "34476  2020-04-01  6234400  Rottweil - Landkreis Rottweil  67  Wednesday   \n",
       "\n",
       "      MaxTemp Precip  \n",
       "34472     8.4    0.2  \n",
       "34473     7.5    0.0  \n",
       "34474    11.6    0.0  \n",
       "34475    11.7    0.0  \n",
       "34476    10.1    0.0  "
      ]
     },
     "execution_count": 8,
     "metadata": {},
     "output_type": "execute_result"
    }
   ],
   "source": [
    "dtf[\"MaxTemp\"] = \"\"\n",
    "dtf[\"Precip\"] = \"\"\n",
    "\n",
    "for i in dtf.index:\n",
    "    id = dtf.loc[i, 'EndId']\n",
    "    time = dtf.loc[i, 'Bucket']\n",
    "    weatherData = districts.loc[(districts.EndId == id),'Weather'].values[0]\n",
    "\n",
    "    if(weatherData.data.loc[(weatherData.data.index == pd.Timestamp(time))].size < 1):\n",
    "        continue\n",
    "\n",
    "    dtf.loc[i, 'MaxTemp'] = weatherData.data.loc[(weatherData.data.index == pd.Timestamp(time)), 'tmax'].values[0]\n",
    "    dtf.loc[i, 'Precip'] = weatherData.data.loc[(weatherData.data.index == pd.Timestamp(time)), 'prcp'].values[0]"
   ]
  },
  {
   "cell_type": "markdown",
   "metadata": {},
   "source": [
    "## Ungültige Datensätze entfernen\n",
    "Alle jetzt im `dtf`-Dataframe enthaltenen Mobilitätsdatensätze, welche in mindestens einer Spalte ungültige Werte beinhalten werden in diesem Schritt entfernt."
   ]
  },
  {
   "cell_type": "code",
   "execution_count": 10,
   "metadata": {},
   "outputs": [
    {
     "name": "stdout",
     "output_type": "stream",
     "text": [
      "Rows before NaN removal:  95418\n",
      "Rows after NaN removal:  94654\n"
     ]
    }
   ],
   "source": [
    "# Remove invalid values\n",
    "print(\"Rows before NaN removal: \", dtf.shape[0])\n",
    "dtf.replace([np.inf, -np.inf], np.NaN, inplace=True)\n",
    "dtf.replace(\"\", np.NaN, inplace=True)\n",
    "dtf.dropna(how='any', axis=0, inplace=True)\n",
    "print(\"Rows after NaN removal: \",dtf.shape[0])"
   ]
  },
  {
   "cell_type": "markdown",
   "metadata": {},
   "source": [
    "## Tage klassifizieren\n",
    "Gemäß des jeweiligen Wochentags bekommt jeder Datensatz in einer zusätzlichen Spalte `Day_class` den Wert `free` (Samstag, Sonntag) oder `work` (Montag, Dienstag, Mittwoch, Donnerstag, Freitag) zugewiesen."
   ]
  },
  {
   "cell_type": "code",
   "execution_count": null,
   "metadata": {},
   "outputs": [],
   "source": [
    "Day_clusters = {\"free\": [\"Saturday\", \"Sunday\"], \"work\": [\"Monday\", \"Tuesday\", \"Wednesday\",\n",
    "                                                         \"Thursday\", \"Friday\"]}\n",
    "\n",
    "dic_flat = {v: k for k, lst in Day_clusters.items() for v in lst}\n",
    "\n",
    "for k, v in Day_clusters.items():\n",
    "    if len(v) == 0:\n",
    "        residual_class = k\n",
    "        \n",
    "dtf[\"Day_class\"] = dtf['DoW'].apply(lambda x: dic_flat[x] if x in\n",
    "                                   dic_flat.keys() else residual_class)"
   ]
  },
  {
   "cell_type": "markdown",
   "metadata": {},
   "source": [
    "## Feiertage laden\n",
    "Feiertage für das Jahr des ersten Mobilitätsdatensatzes werden über HTTPS-Request geladen (siehe `Doku_developer external_data.md`) und die entsprechenden Daten der Feiertage extrahiert."
   ]
  },
  {
   "cell_type": "code",
   "execution_count": null,
   "metadata": {},
   "outputs": [],
   "source": [
    "year = dtf['Bucket'].iloc[0][:4]\n",
    "\n",
    "# Request free days from Feiertage API for year 2021 in bavaria\n",
    "free_days_json = requests.get(\n",
    "    f'https://feiertage-api.de/api/?jahr={year}&nur_land=BY')\n",
    "\n",
    "# Parse result and store as [key, val] dict\n",
    "free_days_json = free_days_json.json()\n",
    "\n",
    "free_days = []\n",
    "\n",
    "# Iterate over\n",
    "for free_day_name in free_days:\n",
    "    free_days.append(free_days_json[free_day_name]['datum'])"
   ]
  },
  {
   "cell_type": "markdown",
   "metadata": {},
   "source": [
    "## Feiertage in Klassifikation aufnehmen\n",
    "Für alle Daten, die zuvor als Feiertage ermittelt wurden, wird die Klassifikation in der Spalte `Day_class` auf `free` geändert."
   ]
  },
  {
   "cell_type": "code",
   "execution_count": null,
   "metadata": {},
   "outputs": [],
   "source": [
    "for day in free_days:\n",
    "    dtf.loc[(dtf.Bucket == day), 'Day_class'] = 'free'"
   ]
  },
  {
   "cell_type": "markdown",
   "metadata": {},
   "source": [
    "## Ferienzeiträume laden\n",
    "Ferienzeiträume für das Jahr des ersten Mobilitätsdatensatzes werden über HTTPS-Request geladen (siehe `Doku_developer external_data.md`). Gespeichert wird hierbei jeweils das Datum des ersten und letzten Ferientags."
   ]
  },
  {
   "cell_type": "code",
   "execution_count": null,
   "metadata": {},
   "outputs": [],
   "source": [
    "year = dtf['Bucket'].iloc[0][:4]\n",
    "\n",
    "# Request free days from Feiertage API for year in bavaria\n",
    "holidays = requests.get(\n",
    "f'https://ferien-api.de/api/v1/holidays/BY/{year}')\n",
    "\n",
    "# Parse result and store as [key, val] dict\n",
    "holidays = holidays.json()\n",
    "\n",
    "holiday_dates = []\n",
    "\n",
    "# Iterate over\n",
    "for holiday in holidays:\n",
    "    holiday_dates.append((holiday['start'], holiday['end']))"
   ]
  },
  {
   "cell_type": "markdown",
   "metadata": {},
   "source": [
    "## Reisetage identifizieren\n",
    "Ausgehend von den angefragten Ferienzeiträumen werden nun die entsprechenden Reisetage ermittelt. Hierbei werden jeweils die ersten x Tage ab dem ersten Ferientag (`start + timespan`) sowie die letzten x Tage vor dem letzten Ferientag (`end - timespan`) als Reisetage betrachtet und die entsprechenden Daten ermittelt."
   ]
  },
  {
   "cell_type": "code",
   "execution_count": null,
   "metadata": {},
   "outputs": [],
   "source": [
    "timespan = 4\n",
    "\n",
    "travellingDays = []\n",
    "\n",
    "for date in holiday_dates:\n",
    "    start = datetime.datetime.strptime(date[0], \"%Y-%m-%dT%H:%MZ\")\n",
    "    end = datetime.datetime.strptime(date[1], \"%Y-%m-%dT%H:%MZ\")\n",
    "    for i in range(0, timespan-1, 1):\n",
    "        travellingDays.append(datetime.datetime.strftime(start + datetime.timedelta(days=i), \"%Y-%m-%d\"))\n",
    "        travellingDays.append(datetime.datetime.strftime(end - datetime.timedelta(days=i),\"%Y-%m-%d\" ))"
   ]
  },
  {
   "cell_type": "markdown",
   "metadata": {},
   "source": [
    "## Reisetage in Klassifikation aufnehmen\n",
    "Es wird eine neue Spalte `Day_class_travel` angelegt, deren Werte für alle Datensätze deren Datum in `travellingDays` enthalten ist `= 1` gesetzt wird (sonst `= 0`)."
   ]
  },
  {
   "cell_type": "code",
   "execution_count": null,
   "metadata": {},
   "outputs": [],
   "source": [
    "dtf['Day_class_travel'] = 0\n",
    "for day in travellingDays:\n",
    "    dtf.loc[(dtf.Bucket == day), 'Day_class_travel'] = 1"
   ]
  },
  {
   "cell_type": "markdown",
   "metadata": {},
   "source": [
    "## One-Hot-Encoding\n",
    "Spalten, welche qualitative Werte enthalten (`Day_class, DoW, EndId`) werden im Folgenden One-Hot-Encodiert."
   ]
  },
  {
   "cell_type": "code",
   "execution_count": null,
   "metadata": {},
   "outputs": [],
   "source": [
    "# create dummies Day_class\n",
    "dummy = pd.get_dummies(dtf[\"Day_class\"],\n",
    "                       prefix=\"Day_class\", drop_first=True)\n",
    "dtf = pd.concat([dtf, dummy], axis=1)\n",
    "    \n",
    "# drop the original column\n",
    "dtf = dtf.drop(\"Day_class\", axis=1)\n",
    "\n",
    "\n",
    "# create dummies DoW\n",
    "dummy = pd.get_dummies(dtf[\"DoW\"],\n",
    "                       prefix=\"DoW\", drop_first=False)\n",
    "dtf = pd.concat([dtf, dummy], axis=1)\n",
    "\n",
    "# drop the original column\n",
    "dtf = dtf.drop(\"DoW\", axis=1)\n",
    "\n",
    "\n",
    "# create dummies EndId\n",
    "dummy = pd.get_dummies(dtf[\"EndId\"],\n",
    "                       prefix=\"EndId\", drop_first=False)\n",
    "dtf = pd.concat([dtf, dummy], axis=1)\n"
   ]
  },
  {
   "cell_type": "markdown",
   "metadata": {},
   "source": [
    "## Aufbereitete Daten speichern\n",
    "Die fertig aufbereiteten Daten werden als `.csv` gespeichert, um sie für zukünftige Trainingsdurchgänge oder als Vorlage für die Datenstruktur im Falle einer Prognose verfügbar zu haben."
   ]
  },
  {
   "cell_type": "code",
   "execution_count": 19,
   "metadata": {},
   "outputs": [],
   "source": [
    "dtf.to_csv(\"../data/mobilityData_complete.csv\")"
   ]
  },
  {
   "cell_type": "markdown",
   "metadata": {},
   "source": [
    "## Daten auf relevante Features reduzieren\n",
    "In diesem Schritt werden die für den Lernprozess relevanten Spalten (\"Features\") festgelegt und die Daten auf diese Features reduziert."
   ]
  },
  {
   "cell_type": "code",
   "execution_count": null,
   "metadata": {},
   "outputs": [],
   "source": [
    "# define training and test features\n",
    "DoWColumns = [col for col in dtf if col.startswith('DoW_')]\n",
    "DayColumns = [col for col in dtf if col.startswith('Day_')]\n",
    "WeatherColumns = [\"MaxTemp\", \"Precip\"]\n",
    "EndIdColumns = [col for col in dtf if col.startswith('EndId_')]\n",
    "X_names = DoWColumns + DayColumns + EndIdColumns + WeatherColumns\n",
    "\n",
    "relevantDtf = dtf[X_names + [\"Y\"]]"
   ]
  },
  {
   "cell_type": "markdown",
   "metadata": {},
   "source": [
    "## Aufteilung Training & Test\n",
    "Die Daten der relevanten Features werden in Trainings- (80%) und Testdaten (20%) unterteilt."
   ]
  },
  {
   "cell_type": "code",
   "execution_count": 21,
   "metadata": {},
   "outputs": [],
   "source": [
    "# split data\n",
    "dtfTrain, dtfTest = model_selection.train_test_split(relevantDtf,\n",
    "                                                     test_size=0.2)"
   ]
  },
  {
   "cell_type": "markdown",
   "metadata": {},
   "source": [
    "## Trennung Features & Y\n",
    "Die Features werden von den später zu prognostizierenden Besucherzahlen (`Y`) getrennt."
   ]
  },
  {
   "cell_type": "code",
   "execution_count": null,
   "metadata": {},
   "outputs": [],
   "source": [
    "X_train = dtfTrain[X_names].values\n",
    "Y_train = dtfTrain[\"Y\"].values\n",
    "\n",
    "X_test = dtfTest[X_names].values\n",
    "Y_test = dtfTest[\"Y\"].values"
   ]
  },
  {
   "cell_type": "markdown",
   "metadata": {},
   "source": [
    "## Model festlegen\n",
    "Als zu verwendendes Model wird der `GradientBoostingRegressor` der Bibliothek `Scikit learn` mit den durch Testläufe ermittelten besten Parametern festgelegt."
   ]
  },
  {
   "cell_type": "code",
   "execution_count": 26,
   "metadata": {},
   "outputs": [
    {
     "data": {
      "text/plain": [
       "GradientBoostingRegressor(n_estimators=400, random_state=21)"
      ]
     },
     "execution_count": 26,
     "metadata": {},
     "output_type": "execute_result"
    }
   ],
   "source": [
    "model = ensemble.GradientBoostingRegressor(n_estimators=400, random_state=21)\n",
    "\n",
    "    "
   ]
  },
  {
   "cell_type": "markdown",
   "metadata": {},
   "source": [
    "## Training\n",
    "Das Model wird anhand der Trainingsdaten trainiert."
   ]
  },
  {
   "cell_type": "code",
   "execution_count": null,
   "metadata": {},
   "outputs": [],
   "source": [
    "model.fit(X_train, Y_train)"
   ]
  },
  {
   "cell_type": "markdown",
   "metadata": {},
   "source": [
    "## Model speichern\n",
    "Um in Zukunft auf des fertig trainierte Model zurückzugreifen zu können (bspw. für die Erstellung einer Prognose) wird dieses in einer Datei gespeichert."
   ]
  },
  {
   "cell_type": "code",
   "execution_count": null,
   "metadata": {},
   "outputs": [],
   "source": [
    "pickle.dump(model, open(\"mobilityPredictionModel.sav\", 'wb'))"
   ]
  },
  {
   "cell_type": "markdown",
   "metadata": {},
   "source": [
    "## Testprognose\n",
    "Anhand der Features der Testdaten (welche **nicht** zum Training des Models verwendet wurden) werden vom Model entsprechende Besucherzahlen für diese Features prognostiziert."
   ]
  },
  {
   "cell_type": "code",
   "execution_count": 27,
   "metadata": {},
   "outputs": [],
   "source": [
    "predicted = model.predict(X_test)"
   ]
  },
  {
   "cell_type": "markdown",
   "metadata": {},
   "source": [
    "## Testprognosenkennzahlen\n",
    "Hier werden verschiedene Kennzahlen zur Testprognose abgegeben, welche Aufschluss darüber geben können, wie stark die prognostizierten Besucherzahlen von den realen abweichen."
   ]
  },
  {
   "cell_type": "code",
   "execution_count": 29,
   "metadata": {},
   "outputs": [
    {
     "name": "stdout",
     "output_type": "stream",
     "text": [
      "Mean Absolute Error (Σ|y-pred|/n): 961\n",
      "Root Mean Squared Error (sqrt(Σ(y-pred)^2/n)): 7,787\n",
      "95-percentile Mean Absolute Error: 164\n",
      "Max Error: -246,916\n",
      "Max Error Dataset:\n",
      "           Bucket    EndId       Y\n",
      "12215  2020-05-23  6241500  411110\n"
     ]
    },
    {
     "data": {
      "image/png": "[encoded data removed]",
      "text/plain": [
       "<Figure size 432x288 with 2 Axes>"
      ]
     },
     "metadata": {
      "needs_background": "light"
     },
     "output_type": "display_data"
    }
   ],
   "source": [
    "# Print errors\n",
    "print(\"Mean Absolute Error (Σ|y-pred|/n):\",\n",
    "        \"{:,.0f}\".format(metrics.mean_absolute_error(Y_test, predicted)))\n",
    "print(\"Root Mean Squared Error (sqrt(Σ(y-pred)^2/n)):\",\n",
    "        \"{:,.0f}\".format(np.sqrt(metrics.mean_squared_error(Y_test, predicted))))\n",
    "\n",
    "# Print residuals\n",
    "residuals = Y_test - predicted\n",
    "max_error = max(residuals) if abs(max(residuals)) > abs(\n",
    "    min(residuals)) else min(residuals)\n",
    "max_idx = list(residuals).index(max(residuals)) if abs(max(residuals)) > abs(\n",
    "    min(residuals)) else list(residuals).index(min(residuals))\n",
    "max_true, max_pred = Y_test[max_idx], predicted[max_idx]\n",
    "print(\"Max Error:\", \"{:,.0f}\".format(max_error))\n",
    "\n",
    "\n",
    "# Get dataset that has biggest error\n",
    "max_difference_y = 0\n",
    "max_dif = 0\n",
    "for idx, val in enumerate(Y_test):\n",
    "    dif = abs(val - predicted[idx])\n",
    "    if(dif > max_dif):\n",
    "        max_dif = dif\n",
    "        max_difference_y = val\n",
    "print(\"Max Error Dataset:\")\n",
    "print(dtf.loc[dtf['Y'] == max_difference_y, [\"Bucket\", \"EndId\", \"Y\"]])\n",
    "\n",
    "\n",
    "# Plot predicted vs true\n",
    "fig, ax = plt.subplots(nrows=1, ncols=2)\n",
    "ax[0].scatter(predicted, Y_test, color=\"black\")\n",
    "abline_plot(intercept=0, slope=1, color=\"red\", ax=ax[0])\n",
    "ax[0].vlines(x=max_pred, ymin=max_true, ymax=max_true-max_error,\n",
    "                color='red', linestyle='--', alpha=0.7, label=\"max error\")\n",
    "ax[0].grid(True)\n",
    "ax[0].set(xlabel=\"Predicted\", ylabel=\"True\", title=\"Predicted vs True\")\n",
    "ax[0].legend()\n",
    "\n",
    "# Plot predicted vs residuals\n",
    "ax[1].scatter(predicted, residuals, color=\"red\")\n",
    "ax[1].vlines(x=max_pred, ymin=0, ymax=max_error, color='black',\n",
    "                linestyle='--', alpha=0.7, label=\"max error\")\n",
    "ax[1].grid(True)\n",
    "ax[1].set(xlabel=\"Predicted\", ylabel=\"Residuals\",\n",
    "            title=\"Predicted vs Residuals\")\n",
    "ax[1].hlines(y=0, xmin=np.min(predicted), xmax=np.max(predicted))\n",
    "ax[1].legend()\n",
    "plt.show()"
   ]
  },
  {
   "cell_type": "code",
   "execution_count": 30,
   "metadata": {},
   "outputs": [
    {
     "data": {
      "text/html": [
       "<div>\n",
       "<style scoped>\n",
       "    .dataframe tbody tr th:only-of-type {\n",
       "        vertical-align: middle;\n",
       "    }\n",
       "\n",
       "    .dataframe tbody tr th {\n",
       "        vertical-align: top;\n",
       "    }\n",
       "\n",
       "    .dataframe thead th {\n",
       "        text-align: right;\n",
       "    }\n",
       "</style>\n",
       "<table border=\"1\" class=\"dataframe\">\n",
       "  <thead>\n",
       "    <tr style=\"text-align: right;\">\n",
       "      <th></th>\n",
       "      <th>Date</th>\n",
       "      <th>DistrictId</th>\n",
       "      <th>DistrictName</th>\n",
       "      <th>MaxTemp</th>\n",
       "      <th>Precip</th>\n",
       "      <th>Visitors</th>\n",
       "    </tr>\n",
       "  </thead>\n",
       "  <tbody>\n",
       "    <tr>\n",
       "      <th>0</th>\n",
       "      <td>2021-05-15</td>\n",
       "      <td>6241500</td>\n",
       "      <td>Oberallgäu - Landkreis Oberallgäu</td>\n",
       "      <td>11</td>\n",
       "      <td>13.1</td>\n",
       "      <td>410757</td>\n",
       "    </tr>\n",
       "  </tbody>\n",
       "</table>\n",
       "</div>"
      ],
      "text/plain": [
       "         Date  DistrictId                       DistrictName  MaxTemp  Precip  \\\n",
       "0  2021-05-15     6241500  Oberallgäu - Landkreis Oberallgäu       11    13.1   \n",
       "\n",
       "   Visitors  \n",
       "0    410757  "
      ]
     },
     "execution_count": 30,
     "metadata": {},
     "output_type": "execute_result"
    },
    {
     "data": {
      "text/html": [
       "<div>\n",
       "<style scoped>\n",
       "    .dataframe tbody tr th:only-of-type {\n",
       "        vertical-align: middle;\n",
       "    }\n",
       "\n",
       "    .dataframe tbody tr th {\n",
       "        vertical-align: top;\n",
       "    }\n",
       "\n",
       "    .dataframe thead th {\n",
       "        text-align: right;\n",
       "    }\n",
       "</style>\n",
       "<table border=\"1\" class=\"dataframe\">\n",
       "  <thead>\n",
       "    <tr style=\"text-align: right;\">\n",
       "      <th></th>\n",
       "      <th>Date</th>\n",
       "      <th>DistrictId</th>\n",
       "      <th>DistrictName</th>\n",
       "      <th>MaxTemp</th>\n",
       "      <th>Precip</th>\n",
       "      <th>Visitors</th>\n",
       "    </tr>\n",
       "  </thead>\n",
       "  <tbody>\n",
       "    <tr>\n",
       "      <th>0</th>\n",
       "      <td>2021-07-22</td>\n",
       "      <td>6241500</td>\n",
       "      <td>Oberallgäu - Landkreis Oberallgäu</td>\n",
       "      <td>22.4</td>\n",
       "      <td>0</td>\n",
       "      <td>667512</td>\n",
       "    </tr>\n",
       "  </tbody>\n",
       "</table>\n",
       "</div>"
      ],
      "text/plain": [
       "         Date  DistrictId                       DistrictName  MaxTemp  Precip  \\\n",
       "0  2021-07-22     6241500  Oberallgäu - Landkreis Oberallgäu     22.4       0   \n",
       "\n",
       "   Visitors  \n",
       "0    667512  "
      ]
     },
     "execution_count": 30,
     "metadata": {},
     "output_type": "execute_result"
    },
    {
     "data": {
      "text/html": [
       "<div>\n",
       "<style scoped>\n",
       "    .dataframe tbody tr th:only-of-type {\n",
       "        vertical-align: middle;\n",
       "    }\n",
       "\n",
       "    .dataframe tbody tr th {\n",
       "        vertical-align: top;\n",
       "    }\n",
       "\n",
       "    .dataframe thead th {\n",
       "        text-align: right;\n",
       "    }\n",
       "</style>\n",
       "<table border=\"1\" class=\"dataframe\">\n",
       "  <thead>\n",
       "    <tr style=\"text-align: right;\">\n",
       "      <th></th>\n",
       "      <th>Date</th>\n",
       "      <th>DistrictId</th>\n",
       "      <th>DistrictName</th>\n",
       "      <th>MaxTemp</th>\n",
       "      <th>Precip</th>\n",
       "      <th>Visitors</th>\n",
       "    </tr>\n",
       "  </thead>\n",
       "  <tbody>\n",
       "    <tr>\n",
       "      <th>0</th>\n",
       "      <td>2021-08-20</td>\n",
       "      <td>6241500</td>\n",
       "      <td>Oberallgäu - Landkreis Oberallgäu</td>\n",
       "      <td>19.7</td>\n",
       "      <td>0</td>\n",
       "      <td>480033</td>\n",
       "    </tr>\n",
       "  </tbody>\n",
       "</table>\n",
       "</div>"
      ],
      "text/plain": [
       "         Date  DistrictId                       DistrictName  MaxTemp  Precip  \\\n",
       "0  2021-08-20     6241500  Oberallgäu - Landkreis Oberallgäu     19.7       0   \n",
       "\n",
       "   Visitors  \n",
       "0    480033  "
      ]
     },
     "execution_count": 30,
     "metadata": {},
     "output_type": "execute_result"
    },
    {
     "data": {
      "text/html": [
       "<div>\n",
       "<style scoped>\n",
       "    .dataframe tbody tr th:only-of-type {\n",
       "        vertical-align: middle;\n",
       "    }\n",
       "\n",
       "    .dataframe tbody tr th {\n",
       "        vertical-align: top;\n",
       "    }\n",
       "\n",
       "    .dataframe thead th {\n",
       "        text-align: right;\n",
       "    }\n",
       "</style>\n",
       "<table border=\"1\" class=\"dataframe\">\n",
       "  <thead>\n",
       "    <tr style=\"text-align: right;\">\n",
       "      <th></th>\n",
       "      <th>Date</th>\n",
       "      <th>DistrictId</th>\n",
       "      <th>DistrictName</th>\n",
       "      <th>MaxTemp</th>\n",
       "      <th>Precip</th>\n",
       "      <th>Visitors</th>\n",
       "    </tr>\n",
       "  </thead>\n",
       "  <tbody>\n",
       "    <tr>\n",
       "      <th>0</th>\n",
       "      <td>2021-09-02</td>\n",
       "      <td>6241500</td>\n",
       "      <td>Oberallgäu - Landkreis Oberallgäu</td>\n",
       "      <td>19.2</td>\n",
       "      <td>0</td>\n",
       "      <td>458894</td>\n",
       "    </tr>\n",
       "  </tbody>\n",
       "</table>\n",
       "</div>"
      ],
      "text/plain": [
       "         Date  DistrictId                       DistrictName  MaxTemp  Precip  \\\n",
       "0  2021-09-02     6241500  Oberallgäu - Landkreis Oberallgäu     19.2       0   \n",
       "\n",
       "   Visitors  \n",
       "0    458894  "
      ]
     },
     "execution_count": 30,
     "metadata": {},
     "output_type": "execute_result"
    }
   ],
   "source": [
    "singlePredict(6241500, \"2021-05-15\").head()     \n",
    "singlePredict(6241500, \"2021-07-22\").head()       \n",
    "singlePredict(6241500, \"2021-08-20\").head()       \n",
    "singlePredict(6241500, \"2021-09-02\").head()"
   ]
  },
  {
   "cell_type": "code",
   "execution_count": 31,
   "metadata": {},
   "outputs": [
    {
     "data": {
      "text/html": [
       "<div>\n",
       "<style scoped>\n",
       "    .dataframe tbody tr th:only-of-type {\n",
       "        vertical-align: middle;\n",
       "    }\n",
       "\n",
       "    .dataframe tbody tr th {\n",
       "        vertical-align: top;\n",
       "    }\n",
       "\n",
       "    .dataframe thead th {\n",
       "        text-align: right;\n",
       "    }\n",
       "</style>\n",
       "<table border=\"1\" class=\"dataframe\">\n",
       "  <thead>\n",
       "    <tr style=\"text-align: right;\">\n",
       "      <th></th>\n",
       "      <th>Date</th>\n",
       "      <th>DistrictId</th>\n",
       "      <th>DistrictName</th>\n",
       "      <th>MaxTemp</th>\n",
       "      <th>Precip</th>\n",
       "      <th>Visitors</th>\n",
       "    </tr>\n",
       "  </thead>\n",
       "  <tbody>\n",
       "    <tr>\n",
       "      <th>0</th>\n",
       "      <td>2021-12-23</td>\n",
       "      <td>6241500</td>\n",
       "      <td>Oberallgäu - Landkreis Oberallgäu</td>\n",
       "      <td>4.0</td>\n",
       "      <td>0.0</td>\n",
       "      <td>388354</td>\n",
       "    </tr>\n",
       "    <tr>\n",
       "      <th>1</th>\n",
       "      <td>2021-12-24</td>\n",
       "      <td>6241500</td>\n",
       "      <td>Oberallgäu - Landkreis Oberallgäu</td>\n",
       "      <td>5.3</td>\n",
       "      <td>7.0</td>\n",
       "      <td>373428</td>\n",
       "    </tr>\n",
       "    <tr>\n",
       "      <th>2</th>\n",
       "      <td>2021-12-25</td>\n",
       "      <td>6241500</td>\n",
       "      <td>Oberallgäu - Landkreis Oberallgäu</td>\n",
       "      <td>4.6</td>\n",
       "      <td>14.1</td>\n",
       "      <td>386653</td>\n",
       "    </tr>\n",
       "    <tr>\n",
       "      <th>3</th>\n",
       "      <td>2021-12-26</td>\n",
       "      <td>6241500</td>\n",
       "      <td>Oberallgäu - Landkreis Oberallgäu</td>\n",
       "      <td>3.0</td>\n",
       "      <td>6.7</td>\n",
       "      <td>291772</td>\n",
       "    </tr>\n",
       "    <tr>\n",
       "      <th>4</th>\n",
       "      <td>2021-12-23</td>\n",
       "      <td>6270100</td>\n",
       "      <td>Kempten (Allgäu)</td>\n",
       "      <td>8.5</td>\n",
       "      <td>0.0</td>\n",
       "      <td>137147</td>\n",
       "    </tr>\n",
       "    <tr>\n",
       "      <th>5</th>\n",
       "      <td>2021-12-24</td>\n",
       "      <td>6270100</td>\n",
       "      <td>Kempten (Allgäu)</td>\n",
       "      <td>7.7</td>\n",
       "      <td>6.2</td>\n",
       "      <td>128731</td>\n",
       "    </tr>\n",
       "    <tr>\n",
       "      <th>6</th>\n",
       "      <td>2021-12-25</td>\n",
       "      <td>6270100</td>\n",
       "      <td>Kempten (Allgäu)</td>\n",
       "      <td>6.8</td>\n",
       "      <td>7.9</td>\n",
       "      <td>148687</td>\n",
       "    </tr>\n",
       "    <tr>\n",
       "      <th>7</th>\n",
       "      <td>2021-12-26</td>\n",
       "      <td>6270100</td>\n",
       "      <td>Kempten (Allgäu)</td>\n",
       "      <td>5.5</td>\n",
       "      <td>2.0</td>\n",
       "      <td>111151</td>\n",
       "    </tr>\n",
       "    <tr>\n",
       "      <th>8</th>\n",
       "      <td>2021-12-23</td>\n",
       "      <td>6259000</td>\n",
       "      <td>Memmingen</td>\n",
       "      <td>6.6</td>\n",
       "      <td>0.0</td>\n",
       "      <td>98878</td>\n",
       "    </tr>\n",
       "    <tr>\n",
       "      <th>9</th>\n",
       "      <td>2021-12-24</td>\n",
       "      <td>6259000</td>\n",
       "      <td>Memmingen</td>\n",
       "      <td>6.5</td>\n",
       "      <td>4.1</td>\n",
       "      <td>95077</td>\n",
       "    </tr>\n",
       "    <tr>\n",
       "      <th>10</th>\n",
       "      <td>2021-12-25</td>\n",
       "      <td>6259000</td>\n",
       "      <td>Memmingen</td>\n",
       "      <td>6.8</td>\n",
       "      <td>3.5</td>\n",
       "      <td>104649</td>\n",
       "    </tr>\n",
       "    <tr>\n",
       "      <th>11</th>\n",
       "      <td>2021-12-26</td>\n",
       "      <td>6259000</td>\n",
       "      <td>Memmingen</td>\n",
       "      <td>6.2</td>\n",
       "      <td>1.3</td>\n",
       "      <td>76830</td>\n",
       "    </tr>\n",
       "  </tbody>\n",
       "</table>\n",
       "</div>"
      ],
      "text/plain": [
       "          Date  DistrictId                       DistrictName  MaxTemp  \\\n",
       "0   2021-12-23     6241500  Oberallgäu - Landkreis Oberallgäu      4.0   \n",
       "1   2021-12-24     6241500  Oberallgäu - Landkreis Oberallgäu      5.3   \n",
       "2   2021-12-25     6241500  Oberallgäu - Landkreis Oberallgäu      4.6   \n",
       "3   2021-12-26     6241500  Oberallgäu - Landkreis Oberallgäu      3.0   \n",
       "4   2021-12-23     6270100                   Kempten (Allgäu)      8.5   \n",
       "5   2021-12-24     6270100                   Kempten (Allgäu)      7.7   \n",
       "6   2021-12-25     6270100                   Kempten (Allgäu)      6.8   \n",
       "7   2021-12-26     6270100                   Kempten (Allgäu)      5.5   \n",
       "8   2021-12-23     6259000                          Memmingen      6.6   \n",
       "9   2021-12-24     6259000                          Memmingen      6.5   \n",
       "10  2021-12-25     6259000                          Memmingen      6.8   \n",
       "11  2021-12-26     6259000                          Memmingen      6.2   \n",
       "\n",
       "    Precip  Visitors  \n",
       "0      0.0    388354  \n",
       "1      7.0    373428  \n",
       "2     14.1    386653  \n",
       "3      6.7    291772  \n",
       "4      0.0    137147  \n",
       "5      6.2    128731  \n",
       "6      7.9    148687  \n",
       "7      2.0    111151  \n",
       "8      0.0     98878  \n",
       "9      4.1     95077  \n",
       "10     3.5    104649  \n",
       "11     1.3     76830  "
      ]
     },
     "execution_count": 31,
     "metadata": {},
     "output_type": "execute_result"
    }
   ],
   "source": [
    "# Oberallgäu    6241500\n",
    "# Kempten       6270100\n",
    "# Memmingen     6259000\n",
    "\n",
    "multiPredict([6241500, 6270100, 6259000], \"2021-12-23\", \"2021-12-26\").head(21)"
   ]
  }
 ],
 "metadata": {
  "interpreter": {
   "hash": "9bff9e86d8185b7c5ada88b7e1e48253fd3d076dc19261dc311bcc20d78c680d"
  },
  "kernelspec": {
   "display_name": "Python 3.8.12 64-bit ('tgki': conda)",
   "language": "python",
   "name": "python3"
  },
  "language_info": {
   "codemirror_mode": {
    "name": "ipython",
    "version": 3
   },
   "file_extension": ".py",
   "mimetype": "text/x-python",
   "name": "python",
   "nbconvert_exporter": "python",
   "pygments_lexer": "ipython3",
   "version": "3.8.12"
  },
  "orig_nbformat": 4
 },
 "nbformat": 4,
 "nbformat_minor": 2
}
